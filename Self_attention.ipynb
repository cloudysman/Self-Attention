{
  "nbformat": 4,
  "nbformat_minor": 0,
  "metadata": {
    "colab": {
      "provenance": []
    },
    "kernelspec": {
      "name": "python3",
      "display_name": "Python 3"
    },
    "language_info": {
      "name": "python"
    }
  },
  "cells": [
    {
      "cell_type": "markdown",
      "source": [
        "# Ở đây đầu tiên em cài đặt thư viện torch"
      ],
      "metadata": {
        "id": "JBrFwIuyJxZD"
      }
    },
    {
      "cell_type": "code",
      "execution_count": 1,
      "metadata": {
        "colab": {
          "base_uri": "https://localhost:8080/"
        },
        "id": "WxowDz3xJUTk",
        "outputId": "8381c8d5-799e-4e9b-ce04-84a32a8f3cdb"
      },
      "outputs": [
        {
          "output_type": "stream",
          "name": "stdout",
          "text": [
            "Requirement already satisfied: torch in /usr/local/lib/python3.10/dist-packages (2.3.0+cu121)\n",
            "Requirement already satisfied: filelock in /usr/local/lib/python3.10/dist-packages (from torch) (3.15.3)\n",
            "Requirement already satisfied: typing-extensions>=4.8.0 in /usr/local/lib/python3.10/dist-packages (from torch) (4.12.2)\n",
            "Requirement already satisfied: sympy in /usr/local/lib/python3.10/dist-packages (from torch) (1.12.1)\n",
            "Requirement already satisfied: networkx in /usr/local/lib/python3.10/dist-packages (from torch) (3.3)\n",
            "Requirement already satisfied: jinja2 in /usr/local/lib/python3.10/dist-packages (from torch) (3.1.4)\n",
            "Requirement already satisfied: fsspec in /usr/local/lib/python3.10/dist-packages (from torch) (2023.6.0)\n",
            "Collecting nvidia-cuda-nvrtc-cu12==12.1.105 (from torch)\n",
            "  Using cached nvidia_cuda_nvrtc_cu12-12.1.105-py3-none-manylinux1_x86_64.whl (23.7 MB)\n",
            "Collecting nvidia-cuda-runtime-cu12==12.1.105 (from torch)\n",
            "  Using cached nvidia_cuda_runtime_cu12-12.1.105-py3-none-manylinux1_x86_64.whl (823 kB)\n",
            "Collecting nvidia-cuda-cupti-cu12==12.1.105 (from torch)\n",
            "  Using cached nvidia_cuda_cupti_cu12-12.1.105-py3-none-manylinux1_x86_64.whl (14.1 MB)\n",
            "Collecting nvidia-cudnn-cu12==8.9.2.26 (from torch)\n",
            "  Using cached nvidia_cudnn_cu12-8.9.2.26-py3-none-manylinux1_x86_64.whl (731.7 MB)\n",
            "Collecting nvidia-cublas-cu12==12.1.3.1 (from torch)\n",
            "  Using cached nvidia_cublas_cu12-12.1.3.1-py3-none-manylinux1_x86_64.whl (410.6 MB)\n",
            "Collecting nvidia-cufft-cu12==11.0.2.54 (from torch)\n",
            "  Using cached nvidia_cufft_cu12-11.0.2.54-py3-none-manylinux1_x86_64.whl (121.6 MB)\n",
            "Collecting nvidia-curand-cu12==10.3.2.106 (from torch)\n",
            "  Using cached nvidia_curand_cu12-10.3.2.106-py3-none-manylinux1_x86_64.whl (56.5 MB)\n",
            "Collecting nvidia-cusolver-cu12==11.4.5.107 (from torch)\n",
            "  Using cached nvidia_cusolver_cu12-11.4.5.107-py3-none-manylinux1_x86_64.whl (124.2 MB)\n",
            "Collecting nvidia-cusparse-cu12==12.1.0.106 (from torch)\n",
            "  Using cached nvidia_cusparse_cu12-12.1.0.106-py3-none-manylinux1_x86_64.whl (196.0 MB)\n",
            "Collecting nvidia-nccl-cu12==2.20.5 (from torch)\n",
            "  Using cached nvidia_nccl_cu12-2.20.5-py3-none-manylinux2014_x86_64.whl (176.2 MB)\n",
            "Collecting nvidia-nvtx-cu12==12.1.105 (from torch)\n",
            "  Using cached nvidia_nvtx_cu12-12.1.105-py3-none-manylinux1_x86_64.whl (99 kB)\n",
            "Requirement already satisfied: triton==2.3.0 in /usr/local/lib/python3.10/dist-packages (from torch) (2.3.0)\n",
            "Collecting nvidia-nvjitlink-cu12 (from nvidia-cusolver-cu12==11.4.5.107->torch)\n",
            "  Downloading nvidia_nvjitlink_cu12-12.5.40-py3-none-manylinux2014_x86_64.whl (21.3 MB)\n",
            "\u001b[2K     \u001b[90m━━━━━━━━━━━━━━━━━━━━━━━━━━━━━━━━━━━━━━━━\u001b[0m \u001b[32m21.3/21.3 MB\u001b[0m \u001b[31m56.9 MB/s\u001b[0m eta \u001b[36m0:00:00\u001b[0m\n",
            "\u001b[?25hRequirement already satisfied: MarkupSafe>=2.0 in /usr/local/lib/python3.10/dist-packages (from jinja2->torch) (2.1.5)\n",
            "Requirement already satisfied: mpmath<1.4.0,>=1.1.0 in /usr/local/lib/python3.10/dist-packages (from sympy->torch) (1.3.0)\n",
            "Installing collected packages: nvidia-nvtx-cu12, nvidia-nvjitlink-cu12, nvidia-nccl-cu12, nvidia-curand-cu12, nvidia-cufft-cu12, nvidia-cuda-runtime-cu12, nvidia-cuda-nvrtc-cu12, nvidia-cuda-cupti-cu12, nvidia-cublas-cu12, nvidia-cusparse-cu12, nvidia-cudnn-cu12, nvidia-cusolver-cu12\n",
            "Successfully installed nvidia-cublas-cu12-12.1.3.1 nvidia-cuda-cupti-cu12-12.1.105 nvidia-cuda-nvrtc-cu12-12.1.105 nvidia-cuda-runtime-cu12-12.1.105 nvidia-cudnn-cu12-8.9.2.26 nvidia-cufft-cu12-11.0.2.54 nvidia-curand-cu12-10.3.2.106 nvidia-cusolver-cu12-11.4.5.107 nvidia-cusparse-cu12-12.1.0.106 nvidia-nccl-cu12-2.20.5 nvidia-nvjitlink-cu12-12.5.40 nvidia-nvtx-cu12-12.1.105\n"
          ]
        }
      ],
      "source": [
        "!pip install torch\n"
      ]
    },
    {
      "cell_type": "markdown",
      "source": [
        "# Bước 1: Khởi Tạo Các Vector Truy Vấn (Query), Khoá (Key), Giá Trị (Value)\n",
        "# Ở bước này, em sẽ tạo các embedding cho các từ \"The\", \"cat\", \"sat\".\n",
        "# Sau đó, em sẽ tạo các vector Q, K, V bằng cách nhân embedding với các ma trận trọng số.\n",
        "![Vector truy vấn.jpg](data:image/jpeg;base64,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)"
      ],
      "metadata": {
        "id": "2pOn43qjKVvN"
      }
    },
    {
      "cell_type": "code",
      "source": [
        "import torch\n",
        "import torch.nn.functional as F\n",
        "embeddings = torch.tensor([[1.0, 0.0],\n",
        "                           [0.0, 1.0],\n",
        "                           [0.5, 0.5]])\n",
        "W_Q = torch.eye(2)\n",
        "W_K = torch.eye(2)\n",
        "W_V = torch.eye(2)\n",
        "\n",
        "Q = torch.matmul(embeddings, W_Q)\n",
        "K = torch.matmul(embeddings, W_K)\n",
        "V = torch.matmul(embeddings, W_V)\n",
        "\n",
        "print(\"Q:\", Q)\n",
        "print(\"K:\", K)\n",
        "print(\"V:\", V)\n"
      ],
      "metadata": {
        "colab": {
          "base_uri": "https://localhost:8080/"
        },
        "id": "mH69yKm-JwG0",
        "outputId": "f01fc845-87db-4c0e-805e-0a63ae5469f9"
      },
      "execution_count": 2,
      "outputs": [
        {
          "output_type": "stream",
          "name": "stdout",
          "text": [
            "Q: tensor([[1.0000, 0.0000],\n",
            "        [0.0000, 1.0000],\n",
            "        [0.5000, 0.5000]])\n",
            "K: tensor([[1.0000, 0.0000],\n",
            "        [0.0000, 1.0000],\n",
            "        [0.5000, 0.5000]])\n",
            "V: tensor([[1.0000, 0.0000],\n",
            "        [0.0000, 1.0000],\n",
            "        [0.5000, 0.5000]])\n"
          ]
        }
      ]
    },
    {
      "cell_type": "markdown",
      "source": [
        "# Bước 2: Tính Điểm Attention\n",
        "# Em sẽ tính điểm attention giữa các từ bằng cách nhân các vector Q với K và chuẩn hóa bằng căn bậc hai của kích thước chiều.\n",
        "![Score-attention.jpg](data:image/jpeg;base64,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)"
      ],
      "metadata": {
        "id": "fbv2k5stKadl"
      }
    },
    {
      "cell_type": "code",
      "source": [
        "\n",
        "dk = Q.size(-1)\n",
        "scores = torch.matmul(Q, K.transpose(-2, -1)) / torch.sqrt(torch.tensor(dk, dtype=torch.float32))\n",
        "\n",
        "print(\"Attention scores:\", scores)\n"
      ],
      "metadata": {
        "colab": {
          "base_uri": "https://localhost:8080/"
        },
        "id": "ZXDXlSjRKZ9L",
        "outputId": "c0dcab16-0a76-44cb-e259-d135317c300c"
      },
      "execution_count": 3,
      "outputs": [
        {
          "output_type": "stream",
          "name": "stdout",
          "text": [
            "Attention scores: tensor([[0.7071, 0.0000, 0.3536],\n",
            "        [0.0000, 0.7071, 0.3536],\n",
            "        [0.3536, 0.3536, 0.3536]])\n"
          ]
        }
      ]
    },
    {
      "cell_type": "markdown",
      "source": [
        "# Bước 3: Áp Dụng Hàm Softmax\n",
        "# Em áp dụng hàm softmax lên các điểm attention để chuyển chúng thành các xác suất.\n",
        "![Softmax-attention.jpg](data:image/jpeg;base64,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)"
      ],
      "metadata": {
        "id": "c9d0quw2Kh6N"
      }
    },
    {
      "cell_type": "code",
      "source": [
        "attention_weights = F.softmax(scores, dim=-1)\n",
        "print(\"Attention weights:\", attention_weights)\n"
      ],
      "metadata": {
        "colab": {
          "base_uri": "https://localhost:8080/"
        },
        "id": "Qb9obdnvKjtE",
        "outputId": "2a4a6808-2b26-4c55-ae47-48ed69129f14"
      },
      "execution_count": 4,
      "outputs": [
        {
          "output_type": "stream",
          "name": "stdout",
          "text": [
            "Attention weights: tensor([[0.4555, 0.2246, 0.3199],\n",
            "        [0.2246, 0.4555, 0.3199],\n",
            "        [0.3333, 0.3333, 0.3333]])\n"
          ]
        }
      ]
    },
    {
      "cell_type": "markdown",
      "source": [
        "# Bước 4: Tính Tổng Trọng Số của Các Giá Trị\n",
        "# Cuối cùng, em sẽ tính tổng trọng số của các giá trị (V) dựa trên các trọng số attention đã tính.\n",
        "![Total-weight.jpg](data:image/jpeg;base64,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)"
      ],
      "metadata": {
        "id": "CpafqWu0KlWe"
      }
    },
    {
      "cell_type": "code",
      "source": [
        "attention_output = torch.matmul(attention_weights, V)\n",
        "print(\"Attention output:\", attention_output)\n"
      ],
      "metadata": {
        "colab": {
          "base_uri": "https://localhost:8080/"
        },
        "id": "lG1KdiZkKq8Z",
        "outputId": "bfb186be-9da1-4fb9-b451-42b4d8bf05a2"
      },
      "execution_count": 5,
      "outputs": [
        {
          "output_type": "stream",
          "name": "stdout",
          "text": [
            "Attention output: tensor([[0.6155, 0.3845],\n",
            "        [0.3845, 0.6155],\n",
            "        [0.5000, 0.5000]])\n"
          ]
        }
      ]
    }
  ]
}